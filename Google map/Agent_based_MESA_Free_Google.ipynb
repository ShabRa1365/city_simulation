{
 "cells": [
  {
   "cell_type": "markdown",
   "metadata": {},
   "source": [
    "# Transportation Simulation using Agent Based approach \n",
    "\n",
    "In this version, no pre-simulation library used, all simulation approches hard coded from scratch."
   ]
  },
  {
   "cell_type": "code",
   "execution_count": null,
   "metadata": {},
   "outputs": [],
   "source": [
    "! pip install googlemaps\n",
    "! pip install DateTime\n",
    "! pip install gmplot\n",
    "! pip install bs4"
   ]
  },
  {
   "cell_type": "code",
   "execution_count": 18,
   "metadata": {},
   "outputs": [],
   "source": [
    "import pandas as pd\n",
    "import random  #import randrange\n",
    "import datetime as dt\n",
    "#Googel API code\n",
    "import googlemaps\n",
    "import urllib\n",
    "import numpy as np\n",
    "import sys\n",
    "import urllib, json\n",
    "import time\n",
    "import threading\n",
    "from gmplot import gmplot\n",
    "import os\n",
    "from bs4 import BeautifulSoup\n",
    "from sys import platform\n"
   ]
  },
  {
   "cell_type": "markdown",
   "metadata": {},
   "source": [
    "Add your Google Map API key here"
   ]
  },
  {
   "cell_type": "code",
   "execution_count": 2,
   "metadata": {},
   "outputs": [],
   "source": [
    "KEY = ''# Google map API key \n"
   ]
  },
  {
   "cell_type": "code",
   "execution_count": 3,
   "metadata": {},
   "outputs": [
    {
     "name": "stderr",
     "output_type": "stream",
     "text": [
      "/anaconda3/lib/python3.6/site-packages/IPython/core/interactiveshell.py:2785: DtypeWarning: Columns (22) have mixed types. Specify dtype option on import or set low_memory=False.\n",
      "  interactivity=interactivity, compiler=compiler, result=result)\n"
     ]
    }
   ],
   "source": [
    "folder=''# inset your databse directory \n",
    "gmaps = googlemaps.Client(KEY)  # google API key\n",
    "dataset = pd.read_csv('postcodes.csv')   #place your postcode datasets\n",
    "\n",
    "# Importing the dataset\n",
    "dataset = pd.read_csv(folder+'postcodes.csv')\n",
    "dataset = dataset[dataset['In Use?']=='Yes']\n",
    "postcode=list(dataset['Postcode'])\n",
    "#demografic= pd.read_csv(\"filename.csv\")\n",
    "sim_date=[2019, 12, 15] #year,month,day"
   ]
  },
  {
   "cell_type": "markdown",
   "metadata": {},
   "source": [
    "### rules: \n",
    "\n",
    "**h_shift** is the hours after zero_time that one's day starts\n",
    "**min_var** is minut variation from the nominal start day time\n",
    "**start** is date time with this format (2018, 12, 20,8,00)\n",
    "**timedelta** (weeks=40, days=84, hours=23,minutes=50, seconds=600)  # adds up to 365 days  "
   ]
  },
  {
   "cell_type": "code",
   "execution_count": 4,
   "metadata": {},
   "outputs": [],
   "source": [
    "def random_time(start,h_shift,min_var): \n",
    "        date_time = start + dt.timedelta(hours=h_shift,minutes=random.randrange(min_var),seconds=0) #timedelta(weeks=40, days=84, hours=23,minutes=50, seconds=600)  # adds up to 365 days       \n",
    "        #print (date_time.strftime(\"%d/%m/%y %H:%M\"))\n",
    "        #print (date_time.strftime(\"%H:%M:%S\"))\n",
    "        return date_time\n",
    "    \n",
    "\n"
   ]
  },
  {
   "cell_type": "markdown",
   "metadata": {},
   "source": [
    "## Google map places_finder\n"
   ]
  },
  {
   "cell_type": "code",
   "execution_count": 5,
   "metadata": {},
   "outputs": [],
   "source": [
    "def places_finder(where,radius,types):\n",
    "    #making the url\n",
    "    geo= gmaps.geocode(str(where))\n",
    "    latlng=geo[0]['geometry']['bounds']['northeast']\n",
    "    \n",
    "    LOCATION = str(latlng['lat']) + \",\" + str(latlng['lng'])\n",
    "    RADIUS = radius\n",
    "    TYPES = types\n",
    "    MyUrl = ('https://maps.googleapis.com/maps/api/place/nearbysearch/json'\n",
    "            '?location=%s'\n",
    "            '&radius=%s'\n",
    "            '&types=%s'\n",
    "            '&sensor=false&key=%s') % (LOCATION, RADIUS, TYPES, KEY)\n",
    "    #grabbing the JSON result\n",
    "    response = urllib.request.urlopen(MyUrl)\n",
    "    jsonRaw = response.read()\n",
    "    jsonData = json.loads(jsonRaw.decode())\n",
    "    location=jsonData['results'][0]['geometry']['location']\n",
    "    return  str(location['lat'])+','+str(location['lng'])\n",
    "  \n",
    "  "
   ]
  },
  {
   "cell_type": "code",
   "execution_count": 6,
   "metadata": {},
   "outputs": [],
   "source": [
    "#ref: https://stackoverflow.com/questions/15380712/how-to-decode-polylines-from-google-maps-direction-api-in-php\n",
    "import geopy.distance\n",
    "def decode_polyline(polyline_str):\n",
    "    index, lat, lng = 0, 0, 0\n",
    "    coordinates = []\n",
    "    dists=[0]\n",
    "    changes = {'latitude': 0, 'longitude': 0}\n",
    "\n",
    "    # Coordinates have variable length when encoded, so just keep\n",
    "    # track of whether we've hit the end of the string. In each\n",
    "    # while loop iteration, a single coordinate is decoded.\n",
    "    while index < len(polyline_str):\n",
    "        # Gather lat/lon changes, store them in a dictionary to apply them later\n",
    "        for unit in ['latitude', 'longitude']: \n",
    "            shift, result = 0, 0\n",
    "\n",
    "            while True:\n",
    "                byte = ord(polyline_str[index]) - 63\n",
    "                index+=1\n",
    "                result |= (byte & 0x1f) << shift\n",
    "                shift += 5\n",
    "                if not byte >= 0x20:\n",
    "                    break\n",
    "\n",
    "            if (result & 1):\n",
    "                changes[unit] = ~(result >> 1)\n",
    "            else:\n",
    "                changes[unit] = (result >> 1)\n",
    "\n",
    "        lat += changes['latitude']\n",
    "        lng += changes['longitude']\n",
    "\n",
    "        coordinates.append((lat / 100000.0, lng / 100000.0))\n",
    "        if len(coordinates)>1:\n",
    "            dists.append(geopy.distance.distance(coordinates[-1], coordinates[-2]).m) #returns the distance in 'm' , replace it with 'km' if needed\n",
    "\n",
    "    return coordinates, dists\n"
   ]
  },
  {
   "cell_type": "code",
   "execution_count": 7,
   "metadata": {},
   "outputs": [],
   "source": [
    "class Spinner:\n",
    "    busy = False\n",
    "    delay = 0.1\n",
    "    @staticmethod\n",
    "    def spinning_cursor():\n",
    "        while 1: \n",
    "            for cursor in '|/-\\\\': yield cursor\n",
    "    def __init__(self, delay=None):\n",
    "        self.spinner_generator = self.spinning_cursor()\n",
    "        if delay and float(delay): self.delay = delay\n",
    "    def spinner_task(self):\n",
    "        while self.busy:\n",
    "            sys.stdout.write('\\b\\b\\b\\b\\b\\b\\b\\b\\b\\b\\b\\b'+next(self.spinner_generator)+' WORKING...')\n",
    "            sys.stdout.flush()\n",
    "            time.sleep(self.delay)\n",
    "    def start(self):\n",
    "        self.busy = True\n",
    "        threading.Thread(target=self.spinner_task).start()\n",
    "    def stop(self):\n",
    "        self.busy = False\n",
    "        time.sleep(self.delay)        \n",
    "        sys.stdout.write('\\b\\b\\b\\b\\b\\b\\b\\b\\b\\b\\b\\b'+'FINISHED!')\n",
    "         \n"
   ]
  },
  {
   "cell_type": "markdown",
   "metadata": {},
   "source": [
    "### MAIN CLASSES\n"
   ]
  },
  {
   "cell_type": "code",
   "execution_count": 8,
   "metadata": {},
   "outputs": [],
   "source": [
    "class make_individual:\n",
    "    def __init__(self,home_adrs,gender,age,social_cls,house_hdcount,work_adrs,cars=None,job_cls=None,n_child=None,child_ages=[]):#child ages is a list of all childeren in each house,which effects on trip type to nursery or school\n",
    "        \n",
    "        self.home_adrs=home_adrs\n",
    "        self.gender=gender\n",
    "        self.age=age\n",
    "        self.social_cls=social_cls\n",
    "        self.house_hdcount=house_hdcount\n",
    "        self.cars=cars\n",
    "        self.work_adrs=work_adrs\n",
    "        self.job_cls=job_cls\n",
    "        self.n_child=n_child\n",
    "        self.child_ages=child_ages\n",
    "        \n",
    "        # additional places:\n",
    "        try:\n",
    "            self.gym_adrs= places_finder(self.home_adrs,5000,'gym')\n",
    "        except:self.gym_adrs= places_finder(self.work_adrs,5000,'gym')\n",
    "        try:\n",
    "            self.nursery_adrs= places_finder(self.home_adrs,5000,'nursery')\n",
    "        except:self.nursery_adrs= places_finder(self.work_adrs,5000,'nursery')\n",
    "        try:\n",
    "            self.shop_adrs= places_finder(self.home_adrs,5000,'supermarket')\n",
    "        except: self.shop_adrs= places_finder(self.work_adrs,5000,'supermarket')\n",
    "\n",
    "            \n",
    "\n",
    "\n",
    "    def trips(self):\n",
    "        zero_time = dt.datetime(sim_date[0],sim_date[1],sim_date[2],00,00,00)   \n",
    "        self.trip_nodes={'Single_people':[\n",
    "                        ['HOME','WORK','HOME'],\n",
    "                        ['HOME','WORK','GYM','HOME'],\n",
    "                        ['HOME','WORK','SHOP','HOME'],\n",
    "                        ['HOME','WORK','GYM','SHOP','HOME'],\n",
    "                        ['HOME','WORK','SHOP','GYM','HOME'],\n",
    "                        ['HOME','GYM','WORK','HOME'],\n",
    "                        ['HOME','GYM','WORK','SHOP','HOME']] \n",
    "                       }\n",
    "        self.trip_nodes={'Single_people':[['HOME','WORK','HOME']]}   \n",
    "        \n",
    "        if self.work_adrs!=None and self.house_hdcount==1 : \n",
    "            steps=random.choice(self.trip_nodes['Single_people'])\n",
    "        self.trips=[]\n",
    "        for i in range(len(steps)-1):\n",
    "            self.trips.append(steps[0+i:2+i])\n",
    "            # before work activities\n",
    "            if self.trips[i]==['HOME','GYM'] : self.trips[i].append('leave');self.trips[i].append(random_time(zero_time,6,40))# 6 hrs and +-~40min shift from zero\n",
    "            elif self.trips[i][1]=='WORK' :self.trips[i].append('arrive');self.trips[i].append(random_time(zero_time,8,45))\n",
    "            # after work activities : they are timed based on last activity time (trips[-1][-1])\n",
    "            \n",
    "            elif self.trips[i][0]=='WORK' :self.trips[i].append('leave');self.trips[i].append(random_time(self.trips[-2][-1],8,30)) #time spend at work: 8h\n",
    "            elif self.trips[i][0]=='GYM'  :self.trips[i].append('leave');self.trips[i].append(random_time(self.trips[-2][-1],1,30))#time spend at gym: 1h\n",
    "            elif self.trips[i][0]=='SHOP' :self.trips[i].append('leave');self.trips[i].append(random_time(self.trips[-2][-1],0,50)) \n",
    "            else : pass\n",
    "        #print (self.trips)\n",
    "        \n",
    "        #assigning actual addresses to the trip lists:\n",
    "        actual_places = {'HOME':self.home_adrs, 'WORK':self.work_adrs, 'GYM':self.gym_adrs, 'SHOP':self.shop_adrs}\n",
    "        for i in range(len(self.trips)):\n",
    "            self.trips[i]=[actual_places.get(n, n) for n in self.trips[i]]\n",
    "        return self.trips\n",
    "    \n",
    "    \n",
    "\n",
    "    #route maker                        \n",
    "    def route(self,trip_legs):\n",
    "        routes=[]\n",
    "        for leg in trip_legs:\n",
    "            #leg[0],leg[1] =origini and destination of each leg,leg[2]is departure or arrival, leg[-1] is the time\n",
    "            if leg[2]=='leave':\n",
    "                directions_result = gmaps.directions(leg[0], leg[1], mode=\"driving\", departure_time=leg[-1])\n",
    "            else: directions_result = gmaps.directions(leg[0],leg[1],mode=\"driving\",arrival_time=leg[-1])                                 \n",
    "            #extracting the key infor ployline points from a direcion_results \n",
    "            route_info=directions_result[0]['legs'][0] \n",
    "            #key info : start time, start location, total trip disttance, total trip time ,end location, end time\n",
    "            if leg[2]=='leave':\n",
    "                start_time=leg[-1];\n",
    "                end_time=leg[-1] + dt.timedelta(seconds=route_info['duration']['value'])#this calculates the end time if we know the leave time\n",
    "\n",
    "            else: \n",
    "                start_time=leg[-1] - dt.timedelta(seconds=route_info['duration']['value']) #this calculates the start time if we know the arrival time\n",
    "                end_time=leg[-1]\n",
    "        \n",
    "            leg_key_info={'start_time':start_time,\n",
    "                                'start_location':route_info['start_location'],\n",
    "                                'distance':route_info['distance']['value'],\n",
    "                                'duration':route_info['duration']['value'],\n",
    "                                'end_location':route_info['end_location'],\n",
    "                                'end_time':end_time\n",
    "                            }   \n",
    "            #extracting the ployline points from a route                                                                                                         \n",
    "            routes.append({'leg_key_info':leg_key_info,'steps':route_info['steps']})\n",
    "        #the route is a list of trip route/info for each leg, for instance [0] returns 1st leg and will containe below dictionaries: 'leg_key_info' and 'steps'\n",
    "        '''\n",
    "        {'leg_key_info': \n",
    "        {'distance': 114392,\n",
    "        'duration': 5205,\n",
    "        'end_location': {'lat': 51.7510628, 'lng': -1.2583664},\n",
    "        'end_time': datetime.datetime(2018, 12, 20, 8, 10),\n",
    "        'start_location': {'lat': 51.9067391, 'lng': -0.2078139},\n",
    "        'start_time': datetime.datetime(2018, 12, 20, 6, 43, 15)},\n",
    "        'steps':\n",
    "        [{'distance': {'text': '0.2 km', 'value': 213},\n",
    "        'duration': {'text': '1 min', 'value': 20},\n",
    "        'end_location': {'lat': 51.9049052, 'lng': -0.2069715},\n",
    "        'html_instructions': 'Head <b>south</b> on <b>Lytton Way</b>/<b>A602</b> toward <b>Gates Way</b>',\n",
    "        'polyline': {'points': 'c`y{Hxqg@|@YxAg@\\\\KvCw@JIRW'},\n",
    "        'start_location': {'lat': 51.9067391, 'lng': -0.2078139},\n",
    "        'travel_mode': 'DRIVING'},\n",
    "        ''' \n",
    "        return routes   \n",
    "    \n",
    "    def loc8(self,t): #location of agent at time = t (datetime.datetime type)\n",
    "\n",
    "        for l in self.route(self.trips):\n",
    "            if  t <= l['leg_key_info']['start_time']: \n",
    "                loc=(l['leg_key_info']['start_location']['lat'],l['leg_key_info']['start_location']['lng'])\n",
    "                return loc #(loc[1],loc[0])\n",
    "                break\n",
    "                \n",
    "\n",
    "            elif l['leg_key_info']['start_time'] < t <= l['leg_key_info']['end_time']:\n",
    "                t=t-l['leg_key_info']['start_time']\n",
    "                t=int(t.total_seconds())\n",
    "                i=0\n",
    "                while t>l['steps'][i]['duration']['value']:\n",
    "                    t=t-l['steps'][i]['duration']['value']\n",
    "                    i+=1 #this 'i' once out of the shows in which step of the leg the agent is \n",
    "                #making a displacement vector from start position (ps) and end position (pe)\n",
    "\n",
    "                step_points,step_length=decode_polyline(l['steps'][i]['polyline']['points'])#**************************\n",
    "                step_velocity=l['steps'][i]['distance']['value']/l['steps'][i]['duration']['value']\n",
    "                step_time=np.array(step_length)/step_velocity # this list 'step_time' starts with '0' as first item\n",
    "                ii=0\n",
    "                while ii+1<len(step_time) and t>step_time[ii+1]:\n",
    "                    t=t-step_time[ii+1]\n",
    "                    ii+=1\n",
    "                pe=step_points[ii+1]\n",
    "                ps=step_points[ii]\n",
    "                vec=np.array(pe)-np.array(ps)\n",
    "                #making a partial displacement vector based on the time passed from start position\n",
    "                tt=t/step_time[ii+1]\n",
    "                vec=tt*vec\n",
    "                #current position : ps + partial vector\n",
    "                loc=tuple(ps+vec)# array\n",
    "                return loc\n",
    "                break\n",
    "            else: \n",
    "                loc=(l['leg_key_info']['end_location']['lat'],l['leg_key_info']['end_location']['lng']);\n",
    "                return loc        \n",
    "            \n",
    "   \n",
    "    "
   ]
  },
  {
   "cell_type": "markdown",
   "metadata": {},
   "source": [
    "#### Test"
   ]
  },
  {
   "cell_type": "code",
   "execution_count": 9,
   "metadata": {},
   "outputs": [
    {
     "name": "stdout",
     "output_type": "stream",
     "text": [
      "start->:  {'lat': 51.60594889999999, 'lng': -1.2351898} @ 2019-12-15 07:54:37\n",
      "--->end:  {'lat': 51.7543967, 'lng': -1.2191121} @ 2019-12-15 08:25:00\n",
      "---------------------------------------------------------------------------------\n",
      "start->:  {'lat': 51.7543967, 'lng': -1.2191121} @ 2019-12-15 16:51:00\n",
      "--->end:  {'lat': 51.60594889999999, 'lng': -1.2351898} @ 2019-12-15 17:21:01\n",
      "---------------------------------------------------------------------------------\n",
      "(51.60594889999999, -1.2351898)\n"
     ]
    }
   ],
   "source": [
    "h=random.choice(postcode)  #home postcode\n",
    "w=random.choice(postcode)  #work postcode\n",
    "p1=make_individual(h,'male',23,'fdfdf',1,w)\n",
    "p1.trips()    #///second time without ()\n",
    "#use below to see all the steps and timings:\n",
    "q=p1.route(p1.trips)\n",
    "for l in q:\n",
    "    print ('start->: ', l['leg_key_info']['start_location'], '@',l['leg_key_info']['start_time'])\n",
    "    print ('--->end: ', l['leg_key_info']['end_location'], '@',l['leg_key_info']['end_time'])\n",
    "    print('---------------------------------------------------------------------------------')\n",
    "#use below to loc8 the agent at different times:\n",
    "print(p1.loc8(dt.datetime(2019,8,8,12,50))) #try different times )"
   ]
  },
  {
   "cell_type": "markdown",
   "metadata": {},
   "source": [
    "# SIMULATION\n"
   ]
  },
  {
   "cell_type": "markdown",
   "metadata": {},
   "source": [
    "Define some rules: "
   ]
  },
  {
   "cell_type": "code",
   "execution_count": 10,
   "metadata": {},
   "outputs": [],
   "source": [
    "\n",
    "sim_date=[2019, 9, 20] #year,month,day DATE of simulation\n",
    "t_start=dt.datetime(sim_date[0],sim_date[1],sim_date[2], 7,0)# start time of simulation\n",
    "t_end=dt.datetime(sim_date[0],sim_date[1],sim_date[2], 9,0)# end time of simulation\n",
    "time_resolution=60 #seconds\n"
   ]
  },
  {
   "cell_type": "markdown",
   "metadata": {},
   "source": [
    "## Mutil Agents at certain time of the day\n"
   ]
  },
  {
   "cell_type": "code",
   "execution_count": 12,
   "metadata": {},
   "outputs": [
    {
     "name": "stdout",
     "output_type": "stream",
     "text": [
      "\bAgent: 1 / 5Agent: 2 / 5Agent: 3 / 5Agent: 4 / 5Agent: 5 / 5Agent: 6 / 5Agent: 7 / 5Agent: 8 / 5Agent: 9 / 5Agent: 10 / 5Agent: 11 / 5Agent: 12 / 5Agent: 13 / 5Agent: 14 / 5Agent: 15 / 5Agent: 16 / 5Agent: 17 / 5Agent: 18 / 5Agent: 19 / 5Agent: 20 / 5Agent: 21 / 5Agent: 22 / 5Agent: 23 / 5Agent: 24 / 5Agent: 25 / 5Agent: 26 / 5Agent: 27 / 5Agent: 28 / 5Agent: 29 / 5Agent: 30 / 5Agent: 31 / 5Agent: 32 / 5Agent: 33 / 5Agent: 34 / 5Agent: 35 / 5Agent: 36 / 5Agent: 37 / 5Agent: 38 / 5Agent: 39 / 5Agent: 40 / 5Agent: 41 / 5Agent: 42 / 5Agent: 43 / 5Agent: 44 / 5Agent: 45 / 5Agent: 46 / 5Agent: 47 / 5Agent: 48 / 5Agent: 49 / 5Agent: 50 / 50\n",
      " 0:02:01.832219\n"
     ]
    }
   ],
   "source": [
    "population=50  #set the city population here. for fast run, I picked 50 here\n",
    "\n",
    "LOCs=[[]]*population\n",
    "time1=dt.datetime.now()\n",
    "for i in range(population):\n",
    "    h=random.choice(postcode)\n",
    "    w=random.choice(postcode)  \n",
    "    p1=make_individual(h,'male',23,'fdfdf',1,w)\n",
    "    p1.trips()\n",
    "    #q=p1.route(p1.trips)\n",
    "    LOCs[i]=p1.loc8(t_start)\n",
    "\n",
    "    sys.stdout.write('\\b\\b\\b\\b\\b\\b\\b\\b\\b\\b\\b\\b\\b\\b\\b\\b\\b'+'Agent: '+str(1+i)+' / '+str(population))\n",
    "    sys.stdout.flush()\n",
    "print ('\\n',dt.datetime.now()-time1)"
   ]
  },
  {
   "cell_type": "markdown",
   "metadata": {},
   "source": [
    "## One Agent followed at different times\n"
   ]
  },
  {
   "cell_type": "code",
   "execution_count": null,
   "metadata": {},
   "outputs": [],
   "source": []
  },
  {
   "cell_type": "code",
   "execution_count": 13,
   "metadata": {},
   "outputs": [
    {
     "name": "stdout",
     "output_type": "stream",
     "text": [
      "| WORKING./ WORKING.- WORKING.\\ WORKING.| WORKING./ WORKING.- WORKING.\\ WORKING.| WORKING./ WORKING.- WORKING.\\ WORKING.| WORKING./ WORKING.- WORKING.\\ WORKING.| WORKING./ WORKING.- WORKING.\\ WORKING.| WORKING./ WORKING.- WORKING.\\ WORKING.| WORKING./ WORKING.- WORKING.\\ WORKING.| WORKING./ WORKING.- WORKING.\\ WORKING.| WORKING./ WORKING.- WORKING.\\ WORKING.| WORKING./ WORKING.- WORKING.\\ WORKING.| WORKING./ WORKING.- WORKING.\\ WORKING.| WORKING./ WORKING.- WORKING.\\ WORKING.| WORKING./ WORKING.- WORKING.\\ WORKING.| WORKING./ WORKING.- WORKING.\\ WORKING.| WORKING./ WORKING.- WORKING.\\ WORKING.| WORKING./ WORKING.- WORKING.\\ WORKING.| WORKING./ WORKING.- WORKING.\\ WORKING.| WORKING./ WORKING.- WORKING.\\ WORKING.| WORKING./ WORKING.- WORKING.\\ WORKING.| WORKING./ WORKING.- WORKING.\\ WORKING.| WORKING./ WORKING.- WORKING.\\ WORKING.| WORKING./ WORKING.- WORKING.\\ WORKING.| WORKING./ WORKING.- WORKING.\\ WORKING.| WORKING./ WORKING.- WORKING.\\ WORKING.| WORKING./ WORKING.- WORKING.\\ WORKING.| WORKING./ WORKING.- WORKING.\\ WORKING.| WORKING./ WORKING.- WORKING.\\ WORKING.| WORKING./ WORKING.- WORKING.\\ WORKING.| WORKING./ WORKING.- WORKING.\\ WORKING.| WORKING./ WORKING.- WORKING.\\ WORKING.| WORKING./ WORKING.- WORKING.\\ WORKING.| WORKING./ WORKING.- WORKING.\\ WORKING.| WORKING./ WORKING.- WORKING.\\ WORKING.| WORKING./ WORKING.- WORKING.\\ WORKING.| WORKING./ WORKING.- WORKING.\\ WORKING.| WORKING./ WORKING.- WORKING.\\ WORKING.| WORKING./ WORKING.- WORKING.\\ WORKING.| WORKING./ WORKING.- WORKING.\\ WORKING.| WORKING./ WORKING.- WORKING.\\ WORKING.| WORKING./ WORKING.- WORKING.\\ WORKING.| WORKING./ WORKING.- WORKING.\\ WORKING.| WORKING./ WORKING.- WORKING.\\ WORKING.| WORKING./ WORKING.- WORKING.\\ WORKING.| WORKING./ WORKING.- WORKING.\\ WORKING.| WORKING./ WORKING.- WORKING.\\ WORKING.| WORKING./ WORKING.- WORKING.\\ WORKING.| WORKING./ WORKING.- WORKING.\\ WORKING.| WORKING./ WORKING.- WORKING.\\ WORKING.| WORKING./ WORKING.- WORKING.\\ WORKING.| WORKING./ WORKING.- WORKING.\\ WORKING.| WORKING./ WORKING.- WORKING.FINISHED!"
     ]
    }
   ],
   "source": [
    "spinner = Spinner()\n",
    "spinner.start()\n",
    "LOCs=[]\n",
    "h=random.choice(postcode)\n",
    "w=random.choice(postcode)  \n",
    "p1=make_individual(h,'male',23,'fdfdf',1,w)\n",
    "p1.trips()\n",
    "t=t_start\n",
    "while t<t_end :\n",
    "    LOCs.append(p1.loc8(t))\n",
    "    t = t + dt.timedelta(seconds=time_resolution)\n",
    "spinner.stop()\n",
    "\n"
   ]
  },
  {
   "cell_type": "markdown",
   "metadata": {},
   "source": [
    "## Visualization"
   ]
  },
  {
   "cell_type": "code",
   "execution_count": 19,
   "metadata": {},
   "outputs": [],
   "source": [
    "def insertapikey(fname, apikey):\n",
    "    \"\"\"put the google api key in a html file\"\"\"\n",
    "    def putkey(htmltxt, apikey, apistring=None):\n",
    "        \"\"\"put the apikey in the htmltxt and return soup\"\"\"\n",
    "        if not apistring:\n",
    "            apistring = \"https://maps.googleapis.com/maps/api/js?key=%s&callback=initMap\"\n",
    "        soup = BeautifulSoup(htmltxt, 'html.parser')\n",
    "        body = soup.body\n",
    "        src = apistring % (apikey, )\n",
    "        tscript = soup.new_tag(\"script\", src=src)#, async=\"defer\")\n",
    "        body.insert(-1, tscript)\n",
    "        return soup\n",
    "    htmltxt = open(fname, 'r').read()\n",
    "    soup = putkey(htmltxt, apikey)\n",
    "    newtxt = soup.prettify()\n",
    "    open(fname, 'w').write(newtxt)\n",
    "\n",
    "    \n",
    "gmap = gmplot.GoogleMapPlotter(51.827922, -0.790973, 11)\n",
    "p_lat,p_lng= zip(*LOCs)\n",
    "#gmap.marker(51.827922, -0.790973, 'cornflowerblue')\n",
    "gmap.scatter(p_lat, p_lng, 'red', size=200, marker=False)\n",
    "# Draw\n",
    "#gmap.plot(p_lat, p_lng, 'red')\n",
    "map_file=folder+\"map1.html\" #spide mac and windows \n",
    "\n",
    "gmap.draw(map_file)\n",
    "insertapikey(map_file, KEY)\n",
    "\n",
    "\n",
    "if platform == \"darwin\": os.system(\"open \"+map_file)# OS X\n",
    "elif platform == \"win32\": os.system(\"start \"+map_file)#Windows\n",
    "else: pass"
   ]
  },
  {
   "cell_type": "code",
   "execution_count": 21,
   "metadata": {},
   "outputs": [],
   "source": [
    "######## the path og agent movement will apear in a new web page on the region of map you defined start and end point."
   ]
  },
  {
   "cell_type": "code",
   "execution_count": 22,
   "metadata": {},
   "outputs": [
    {
     "data": {
      "text/plain": [
       "0"
      ]
     },
     "execution_count": 22,
     "metadata": {},
     "output_type": "execute_result"
    }
   ],
   "source": [
    "os.system(\"open \"+map_file)"
   ]
  },
  {
   "cell_type": "code",
   "execution_count": null,
   "metadata": {},
   "outputs": [],
   "source": []
  }
 ],
 "metadata": {
  "kernelspec": {
   "display_name": "Python 3",
   "language": "python",
   "name": "python3"
  },
  "language_info": {
   "codemirror_mode": {
    "name": "ipython",
    "version": 3
   },
   "file_extension": ".py",
   "mimetype": "text/x-python",
   "name": "python",
   "nbconvert_exporter": "python",
   "pygments_lexer": "ipython3",
   "version": "3.7.3"
  }
 },
 "nbformat": 4,
 "nbformat_minor": 2
}
